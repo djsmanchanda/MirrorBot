{
 "cells": [
  {
   "cell_type": "code",
   "execution_count": 10,
   "metadata": {},
   "outputs": [],
   "source": [
    "import os\n",
    "import json\n",
    "import pandas as pd\n",
    "import emoji\n",
    "from concurrent.futures import ThreadPoolExecutor, as_completed"
   ]
  },
  {
   "cell_type": "code",
   "execution_count": 11,
   "metadata": {},
   "outputs": [],
   "source": [
    "# Specify the directory containing the JSON files\n",
    "json_directory = 'C:\\\\Users\\\\djsma\\\\Downloads\\\\inbox1'\n",
    "\n",
    "def process_json_files(json_files, folder_name):\n",
    "    messages = []\n",
    "    \n",
    "    for file_path in sorted(json_files, key=lambda x: int(x.split('_')[-1].split('.')[0])):\n",
    "        # Read the JSON file\n",
    "        with open(file_path, 'r', encoding='utf-8') as file:\n",
    "            data = json.load(file)\n",
    "            messages.extend(data['messages'])\n",
    "    \n",
    "    # Check the number of unique senders\n",
    "    senders = {msg.get('sender_name') for msg in messages if 'sender_name' in msg}\n",
    "    if len(senders) != 2:\n",
    "        return None\n",
    "    \n",
    "    # Create a DataFrame from the messages\n",
    "    df = pd.DataFrame(messages)\n",
    "    \n",
    "    # Sort messages by timestamp in ascending order\n",
    "    df.sort_values(by='timestamp_ms', inplace=True)\n",
    "    \n",
    "    # Function to process messages and replace sender name\n",
    "    def process_message(row):\n",
    "        content = row.get('content', \"\")\n",
    "        return emoji.demojize(content)\n",
    "    \n",
    "    # Apply the process_message function to the 'content' field\n",
    "    df['message'] = df.apply(\n",
    "        lambda x: process_message(x) if 'content' in x and isinstance(x['content'], str) else \"\", axis=1\n",
    "    )\n",
    "    \n",
    "    # Replace the specific sender name\n",
    "    df['sender_name'] = df['sender_name'].replace(\n",
    "        '𝙳𝚒𝚟𝚓𝚘𝚝 𝙼𝚊𝚗𝚌𝚑𝚊𝚗𝚍𝚊', 'Divjot'\n",
    "    )\n",
    "    \n",
    "    # Add a column for share (yes/no)\n",
    "    df['share'] = df.apply(\n",
    "        lambda x: 'yes' if 'share' in x and isinstance(x['share'], dict) else 'no', axis=1\n",
    "    )\n",
    "    \n",
    "    # Add a column for reactions\n",
    "    df['reactions'] = df.apply(\n",
    "        lambda x: emoji.demojize(x['reactions'][0]['reaction']) if 'reactions' in x and isinstance(x['reactions'], list) and len(x['reactions']) > 0 else pd.NA, axis=1\n",
    "    )\n",
    "    \n",
    "    # Combine messages from the same sender within 5 minutes\n",
    "    combined_messages = []\n",
    "    last_sender = None\n",
    "    last_timestamp = None\n",
    "    combined_message = \"\"\n",
    "    share = \"no\"\n",
    "    reactions = pd.NA\n",
    "    \n",
    "    for index, row in df.iterrows():\n",
    "        sender = row['sender_name']\n",
    "        timestamp = row['timestamp_ms']\n",
    "        \n",
    "        if last_sender == sender and (timestamp - last_timestamp) <= 300000:  # 5 minutes in milliseconds\n",
    "            combined_message += \"\\n\\n\" + row['message']\n",
    "        else:\n",
    "            if combined_message:\n",
    "                if share == 'yes':\n",
    "                    combined_message = f\"replied to story/sent a reel: {combined_message.strip()}\"\n",
    "                combined_messages.append((last_sender, last_timestamp, combined_message.strip(), share, reactions))\n",
    "            combined_message = row['message']\n",
    "            last_sender = sender\n",
    "            last_timestamp = timestamp\n",
    "            share = row['share']\n",
    "            reactions = row['reactions']\n",
    "    \n",
    "    if combined_message:\n",
    "        if share == 'yes':\n",
    "            combined_message = f\"replied to story/sent a reel: {combined_message.strip()}\"\n",
    "        combined_messages.append((last_sender, last_timestamp, combined_message.strip(), share, reactions))\n",
    "    \n",
    "    # Create a new DataFrame with combined messages\n",
    "    combined_df = pd.DataFrame(combined_messages, columns=['sender_name', 'timestamp_ms', 'message', 'share', 'reactions'])\n",
    "    combined_df['message_id'] = range(1, len(combined_df) + 1)\n",
    "    combined_df['folder_name'] = folder_name\n",
    "    \n",
    "    return combined_df"
   ]
  },
  {
   "cell_type": "code",
   "execution_count": 12,
   "metadata": {},
   "outputs": [],
   "source": [
    "def process_folder(folder_name):\n",
    "    account_dir = os.path.join(json_directory, folder_name)\n",
    "    if os.path.isdir(account_dir):\n",
    "        json_files = [os.path.join(account_dir, file) for file in os.listdir(account_dir) if file.startswith('message_') and file.endswith('.json')]\n",
    "        if json_files:\n",
    "            return process_json_files(json_files, folder_name)\n",
    "    return None"
   ]
  },
  {
   "cell_type": "code",
   "execution_count": 15,
   "metadata": {},
   "outputs": [],
   "source": [
    "# Get the list of all folders in the main directory\n",
    "folders = [folder for folder in os.listdir(json_directory) if os.path.isdir(os.path.join(json_directory, folder))]\n",
    "\n",
    "# Initialize an empty list to store the DataFrames\n",
    "df_list = []\n",
    "\n",
    "# Process each folder in parallel using ThreadPoolExecutor\n",
    "with ThreadPoolExecutor(max_workers=os.cpu_count()) as executor:\n",
    "    future_to_folder = {executor.submit(process_folder, folder): folder for folder in folders}\n",
    "    for future in as_completed(future_to_folder):\n",
    "        folder = future_to_folder[future]\n",
    "        try:\n",
    "            df = future.result()\n",
    "            if df is not None:\n",
    "                df_list.append(df)\n",
    "        except Exception as e:\n",
    "            print(f\"Error processing folder {folder}: {e}\")"
   ]
  },
  {
   "cell_type": "code",
   "execution_count": null,
   "metadata": {},
   "outputs": [
    {
     "name": "stdout",
     "output_type": "stream",
     "text": [
      "DataFrame saved to instagram_messages.csv\n"
     ]
    }
   ],
   "source": [
    "# Concatenate all DataFrames into a single DataFrame\n",
    "final_df = pd.concat(df_list, ignore_index=True)\n",
    "\n",
    "# Select specific columns and rename them\n",
    "final_df = final_df[['message_id', 'folder_name', 'sender_name', 'timestamp_ms', 'message', 'share', 'reactions']]\n",
    "final_df.rename(columns={'timestamp_ms': 'timestamp'}, inplace=True)\n",
    "\n",
    "# Save the DataFrame to a CSV file\n",
    "output_file = 'instagram_messages.csv'\n",
    "final_df.to_csv(output_file, index=False, encoding='utf-8-sig')\n",
    "\n",
    "print(f\"DataFrame saved to {output_file}\")\n"
   ]
  },
  {
   "cell_type": "code",
   "execution_count": null,
   "metadata": {},
   "outputs": [],
   "source": []
  }
 ],
 "metadata": {
  "kernelspec": {
   "display_name": "base",
   "language": "python",
   "name": "python3"
  },
  "language_info": {
   "codemirror_mode": {
    "name": "ipython",
    "version": 3
   },
   "file_extension": ".py",
   "mimetype": "text/x-python",
   "name": "python",
   "nbconvert_exporter": "python",
   "pygments_lexer": "ipython3",
   "version": "3.11.7"
  }
 },
 "nbformat": 4,
 "nbformat_minor": 2
}
