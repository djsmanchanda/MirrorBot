{
 "cells": [
  {
   "cell_type": "code",
   "execution_count": 3,
   "metadata": {},
   "outputs": [],
   "source": [
    "import os\n",
    "import json\n",
    "\n",
    "def decode_unicode(data):\n",
    "    if isinstance(data, str):\n",
    "        try:\n",
    "            return data.encode('latin1').decode('utf-8')\n",
    "        except UnicodeEncodeError:\n",
    "            return data\n",
    "    elif isinstance(data, list):\n",
    "        return [decode_unicode(item) for item in data]\n",
    "    elif isinstance(data, dict):\n",
    "        return {key: decode_unicode(value) for key, value in data.items()}\n",
    "    else:\n",
    "        return data\n",
    "\n",
    "def convert_json_files(input_folder, output_folder):\n",
    "    for root, dirs, files in os.walk(input_folder):\n",
    "        for file in files:\n",
    "            if file.endswith('.json'):\n",
    "                input_file_path = os.path.join(root, file)\n",
    "                relative_path = os.path.relpath(input_file_path, input_folder)\n",
    "                output_file_path = os.path.join(output_folder, relative_path)\n",
    "                \n",
    "                os.makedirs(os.path.dirname(output_file_path), exist_ok=True)\n",
    "                \n",
    "                with open(input_file_path, 'r', encoding='utf-8') as infile:\n",
    "                    try:\n",
    "                        data = json.load(infile)\n",
    "                        decoded_data = decode_unicode(data)\n",
    "                    except json.JSONDecodeError:\n",
    "                        print(f\"Failed to decode JSON file: {input_file_path}\")\n",
    "                        continue\n",
    "                \n",
    "                with open(output_file_path, 'w', encoding='utf-8') as outfile:\n",
    "                    json.dump(decoded_data, outfile, ensure_ascii=False, indent=4)\n",
    "\n",
    "input_folder = 'C:\\\\Users\\\\djsma\\\\Downloads\\\\inbox'\n",
    "output_folder = 'C:\\\\Users\\\\djsma\\\\Downloads\\\\inbox1'\n",
    "convert_json_files(input_folder, output_folder)\n"
   ]
  },
  {
   "cell_type": "code",
   "execution_count": null,
   "metadata": {},
   "outputs": [],
   "source": []
  }
 ],
 "metadata": {
  "kernelspec": {
   "display_name": "base",
   "language": "python",
   "name": "python3"
  },
  "language_info": {
   "codemirror_mode": {
    "name": "ipython",
    "version": 3
   },
   "file_extension": ".py",
   "mimetype": "text/x-python",
   "name": "python",
   "nbconvert_exporter": "python",
   "pygments_lexer": "ipython3",
   "version": "3.11.7"
  }
 },
 "nbformat": 4,
 "nbformat_minor": 2
}
