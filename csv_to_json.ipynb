{
 "cells": [
  {
   "cell_type": "code",
   "execution_count": 16,
   "metadata": {},
   "outputs": [
    {
     "name": "stdout",
     "output_type": "stream",
     "text": [
      "Data has been saved to output_temp.json\n"
     ]
    }
   ],
   "source": [
    "import pandas as pd\n",
    "import json\n",
    "\n",
    "# Load the CSV data into a DataFrame\n",
    "input_file = 'instagram_messages.csv'  # Replace with your CSV file path\n",
    "df = pd.read_csv(input_file)\n",
    "\n",
    "# Initialize a list to hold the JSON data\n",
    "json_data = []\n",
    "\n",
    "# Iterate through the DataFrame to create the prompt-response pairs\n",
    "for i in range(len(df) - 1):\n",
    "    current_row = df.iloc[i]\n",
    "    next_row = df.iloc[i + 1]\n",
    "    \n",
    "    if current_row['sender_name'] == 'Divjot' or next_row['sender_name'] != 'Divjot':\n",
    "        continue\n",
    "    \n",
    "    prompt_text = current_row['message']\n",
    "    response_text = next_row['message']\n",
    "    \n",
    "    # Check if either the prompt or response is NaN\n",
    "    if pd.isna(prompt_text) or pd.isna(response_text):\n",
    "        continue\n",
    "    \n",
    "    json_data.append({\n",
    "        \"user\": prompt_text,\n",
    "        \"divjot\": response_text\n",
    "    })\n",
    "\n",
    "# Convert the list to JSON format\n",
    "output_json = json.dumps(json_data, ensure_ascii=False, indent=2)\n",
    "\n",
    "# Save to a JSON file\n",
    "output_file = 'output_temp.json'  # Replace with your desired output file path\n",
    "with open(output_file, 'w', encoding='utf-8') as f:\n",
    "    f.write(output_json)\n",
    "\n",
    "print(f\"Data has been saved to {output_file}\")\n"
   ]
  },
  {
   "cell_type": "code",
   "execution_count": 17,
   "metadata": {},
   "outputs": [],
   "source": [
    "import json\n",
    "import emoji\n",
    "\n",
    "def decode_emojis(text):\n",
    "    if isinstance(text, str):\n",
    "        return emoji.emojize(text, language='alias')\n",
    "    return text\n",
    "\n",
    "def process_json(input_file, output_file):\n",
    "    with open(input_file, 'r', encoding='utf-8') as f:\n",
    "        data = json.load(f)\n",
    "\n",
    "    for item in data:\n",
    "        if 'text' in item:\n",
    "            item['text'] = decode_emojis(item['text'])\n",
    "        if 'divjot' in item:\n",
    "            item['divjot'] = decode_emojis(item['divjot'])\n",
    "\n",
    "    with open(output_file, 'w', encoding='utf-8') as f:\n",
    "        json.dump(data, f, ensure_ascii=False, indent=4)\n",
    "\n",
    "input_file = 'output_temp.json'  # replace with your input file name\n",
    "output_file = 'output_data.json'  # replace with your desired output file name\n",
    "\n",
    "process_json(input_file, output_file)\n"
   ]
  },
  {
   "cell_type": "code",
   "execution_count": 5,
   "metadata": {},
   "outputs": [
    {
     "name": "stdout",
     "output_type": "stream",
     "text": [
      "Requirement already satisfied: emoji in c:\\users\\djsma\\anaconda3\\lib\\site-packages (2.12.1)\n",
      "Requirement already satisfied: typing-extensions>=4.7.0 in c:\\users\\djsma\\anaconda3\\lib\\site-packages (from emoji) (4.9.0)\n"
     ]
    }
   ],
   "source": [
    "!pip install emoji"
   ]
  }
 ],
 "metadata": {
  "kernelspec": {
   "display_name": "base",
   "language": "python",
   "name": "python3"
  },
  "language_info": {
   "codemirror_mode": {
    "name": "ipython",
    "version": 3
   },
   "file_extension": ".py",
   "mimetype": "text/x-python",
   "name": "python",
   "nbconvert_exporter": "python",
   "pygments_lexer": "ipython3",
   "version": "3.11.7"
  }
 },
 "nbformat": 4,
 "nbformat_minor": 2
}
