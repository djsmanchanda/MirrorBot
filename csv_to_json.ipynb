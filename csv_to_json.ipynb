{
 "cells": [
  {
   "cell_type": "code",
   "execution_count": 22,
   "metadata": {},
   "outputs": [],
   "source": [
    "import pandas as pd\n",
    "import json\n",
    "import emoji\n",
    "\n",
    "# Function to decode emojis in text\n",
    "def decode_emojis(text):\n",
    "    if isinstance(text, str):\n",
    "        return emoji.emojize(text, language='alias')\n",
    "    return text\n",
    "\n",
    "# Load the CSV data into a DataFrame\n",
    "input_file_csv = 'instagram_messages.csv'  # Replace with your CSV file path\n",
    "df = pd.read_csv(input_file_csv)\n",
    "\n",
    "# Initialize a list to hold the JSON data\n",
    "json_data = []\n"
   ]
  },
  {
   "cell_type": "code",
   "execution_count": 23,
   "metadata": {},
   "outputs": [],
   "source": [
    "\n",
    "# Iterate through the DataFrame to create the prompt-response pairs\n",
    "for i in range(len(df) - 1):\n",
    "    current_row = df.iloc[i]\n",
    "    next_row = df.iloc[i + 1]\n",
    "    \n",
    "    if current_row['sender_name'] == 'Divjot' or next_row['sender_name'] != 'Divjot':\n",
    "        continue\n",
    "    \n",
    "    prompt_text = current_row['message']\n",
    "    response_text = next_row['message']\n",
    "    \n",
    "    # Check if either the prompt or response is NaN\n",
    "    if pd.isna(prompt_text) or pd.isna(response_text):\n",
    "        continue\n",
    "    \n",
    "    json_data.append({\n",
    "        \"user\": decode_emojis(prompt_text),\n",
    "        \"divjot\": decode_emojis(response_text)\n",
    "    })\n"
   ]
  },
  {
   "cell_type": "code",
   "execution_count": 24,
   "metadata": {},
   "outputs": [
    {
     "name": "stdout",
     "output_type": "stream",
     "text": [
      "Data has been saved to final_dataset.json\n"
     ]
    }
   ],
   "source": [
    "\n",
    "# Convert the list to JSON format and save directly to output file\n",
    "output_file = 'final_dataset.json'  # Replace with your desired output file path\n",
    "\n",
    "with open(output_file, 'w', encoding='utf-8') as f:\n",
    "    json.dump(json_data, f, ensure_ascii=False, indent=4)\n",
    "\n",
    "print(f\"Data has been saved to {output_file}\")\n"
   ]
  },
  {
   "cell_type": "code",
   "execution_count": null,
   "metadata": {},
   "outputs": [],
   "source": []
  }
 ],
 "metadata": {
  "kernelspec": {
   "display_name": "base",
   "language": "python",
   "name": "python3"
  },
  "language_info": {
   "codemirror_mode": {
    "name": "ipython",
    "version": 3
   },
   "file_extension": ".py",
   "mimetype": "text/x-python",
   "name": "python",
   "nbconvert_exporter": "python",
   "pygments_lexer": "ipython3",
   "version": "3.11.7"
  }
 },
 "nbformat": 4,
 "nbformat_minor": 2
}
