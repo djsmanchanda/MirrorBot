{
 "cells": [
  {
   "cell_type": "code",
   "execution_count": 2,
   "metadata": {},
   "outputs": [
    {
     "name": "stderr",
     "output_type": "stream",
     "text": [
      "C:\\Users\\djsma\\AppData\\Local\\Temp\\ipykernel_46644\\750875316.py:31: DeprecationWarning: invalid escape sequence '\\_'\n",
      "  content = content.encode('latin1').decode('unicode-escape')\n",
      "C:\\Users\\djsma\\AppData\\Local\\Temp\\ipykernel_46644\\750875316.py:31: DeprecationWarning: invalid escape sequence '\\â'\n",
      "  content = content.encode('latin1').decode('unicode-escape')\n"
     ]
    },
    {
     "name": "stdout",
     "output_type": "stream",
     "text": [
      "DataFrame saved to instagram_messages1.csv\n"
     ]
    }
   ],
   "source": [
    "import os\n",
    "import json\n",
    "import pandas as pd\n",
    "import emoji\n",
    "\n",
    "# Specify the directory containing the JSON files\n",
    "json_directory = 'C:\\\\Users\\\\djsma\\\\Downloads\\\\inbox'\n",
    "\n",
    "def process_json_file(file_path, folder_name):\n",
    "    # Read the JSON file\n",
    "    with open(file_path, 'r', encoding='utf-8') as file:\n",
    "        data = json.load(file)\n",
    "\n",
    "    # Extract the messages from the data\n",
    "    messages = data['messages']\n",
    "\n",
    "    # Create a DataFrame from the messages\n",
    "    df = pd.DataFrame(messages)\n",
    "\n",
    "    # Add a unique identifier column based on the index\n",
    "    df.insert(0, 'message_id', range(1, len(df) + 1))\n",
    "\n",
    "    # Add the folder name as a new column\n",
    "    df['folder_name'] = folder_name\n",
    "\n",
    "    # Function to decode messages\n",
    "    def decode_message(content):\n",
    "        if pd.isna(content):\n",
    "            return \"\"\n",
    "        try:\n",
    "            content = content.encode('latin1').decode('unicode-escape')\n",
    "        except UnicodeDecodeError:\n",
    "            content = content.encode('utf-8').decode('utf-8')\n",
    "        return emoji.demojize(content)\n",
    "\n",
    "    # Apply the decode_message function to the 'content' field\n",
    "    df['message'] = df.apply(\n",
    "        lambda x: decode_message(x['content']) if 'content' in x and isinstance(x['content'], str) else \"\", axis=1\n",
    "    )\n",
    "\n",
    "    return df\n",
    "\n",
    "# Initialize an empty list to store the DataFrames\n",
    "df_list = []\n",
    "\n",
    "# Iterate over all subdirectories in the main directory\n",
    "for folder_name in os.listdir(json_directory):\n",
    "    account_dir = os.path.join(json_directory, folder_name)\n",
    "    if os.path.isdir(account_dir):\n",
    "        json_file = os.path.join(account_dir, 'message_1.json')\n",
    "        if os.path.isfile(json_file):\n",
    "            df = process_json_file(json_file, folder_name)\n",
    "            df_list.append(df)\n",
    "\n",
    "# Concatenate all DataFrames into a single DataFrame\n",
    "final_df = pd.concat(df_list, ignore_index=True)\n",
    "\n",
    "# Select specific columns and rename them\n",
    "final_df = final_df[['message_id', 'folder_name', 'sender_name', 'timestamp_ms', 'message']]\n",
    "final_df.rename(columns={'timestamp_ms': 'timestamp'}, inplace=True)\n",
    "\n",
    "# Save the DataFrame to a CSV file\n",
    "output_file = 'instagram_messages1.csv'\n",
    "final_df.to_csv(output_file, index=False, encoding='utf-8-sig')\n",
    "\n",
    "print(f\"DataFrame saved to {output_file}\")\n"
   ]
  },
  {
   "cell_type": "code",
   "execution_count": null,
   "metadata": {},
   "outputs": [],
   "source": []
  }
 ],
 "metadata": {
  "kernelspec": {
   "display_name": "base",
   "language": "python",
   "name": "python3"
  },
  "language_info": {
   "codemirror_mode": {
    "name": "ipython",
    "version": 3
   },
   "file_extension": ".py",
   "mimetype": "text/x-python",
   "name": "python",
   "nbconvert_exporter": "python",
   "pygments_lexer": "ipython3",
   "version": "3.11.7"
  }
 },
 "nbformat": 4,
 "nbformat_minor": 2
}
